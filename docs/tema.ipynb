{
 "cells": [
  {
   "attachments": {},
   "cell_type": "markdown",
   "metadata": {},
   "source": [
    "# RECOMENDADOR DE PELÍCULAS"
   ]
  },
  {
   "attachments": {},
   "cell_type": "markdown",
   "metadata": {},
   "source": [
    "Haciendo uso del dataset que conseguí haciendo webscrapping para el EDA (con más de 5000 registros, y 10 campos, que corresponden a un TOP de películas de Filmaffinity desde el año 1972 hasta la actualidad), mi objetivo es crear un modelo que pueda predecir la nota (variable objetivo) que le pondría un usuario. Este es un problema de regresión supervisada, con el fin de lograr la predicción de un valor numérico basado en características de la película."
   ]
  },
  {
   "attachments": {},
   "cell_type": "markdown",
   "metadata": {},
   "source": [
    "Este modelo podría ser usado por plataformas de streaming para mejorar la experiencia del usuario, recomendándole nuevo contenido en base a sus gustos."
   ]
  },
  {
   "attachments": {},
   "cell_type": "markdown",
   "metadata": {},
   "source": [
    "### dataset"
   ]
  },
  {
   "cell_type": "code",
   "execution_count": 1,
   "metadata": {},
   "outputs": [],
   "source": [
    "import pandas as pd"
   ]
  },
  {
   "cell_type": "code",
   "execution_count": 2,
   "metadata": {},
   "outputs": [],
   "source": [
    "df = pd.read_csv('../data/raw/DF.csv')"
   ]
  },
  {
   "cell_type": "code",
   "execution_count": 9,
   "metadata": {},
   "outputs": [
    {
     "data": {
      "text/plain": [
       "(5040, 10)"
      ]
     },
     "execution_count": 9,
     "metadata": {},
     "output_type": "execute_result"
    }
   ],
   "source": [
    "df.shape"
   ]
  },
  {
   "cell_type": "code",
   "execution_count": 6,
   "metadata": {},
   "outputs": [
    {
     "data": {
      "text/html": [
       "<div>\n",
       "<style scoped>\n",
       "    .dataframe tbody tr th:only-of-type {\n",
       "        vertical-align: middle;\n",
       "    }\n",
       "\n",
       "    .dataframe tbody tr th {\n",
       "        vertical-align: top;\n",
       "    }\n",
       "\n",
       "    .dataframe thead th {\n",
       "        text-align: right;\n",
       "    }\n",
       "</style>\n",
       "<table border=\"1\" class=\"dataframe\">\n",
       "  <thead>\n",
       "    <tr style=\"text-align: right;\">\n",
       "      <th></th>\n",
       "      <th>TITULO</th>\n",
       "      <th>AÑO</th>\n",
       "      <th>DURACION (min)</th>\n",
       "      <th>GENERO</th>\n",
       "      <th>DIRECCION</th>\n",
       "      <th>GUION</th>\n",
       "      <th>PROTAGONISTA</th>\n",
       "      <th>PAIS</th>\n",
       "      <th>NOTA</th>\n",
       "      <th>VOTOS</th>\n",
       "    </tr>\n",
       "  </thead>\n",
       "  <tbody>\n",
       "    <tr>\n",
       "      <th>0</th>\n",
       "      <td>(500) días juntos</td>\n",
       "      <td>2009</td>\n",
       "      <td>96</td>\n",
       "      <td>Romance</td>\n",
       "      <td>Marc Webb</td>\n",
       "      <td>Marc Webb</td>\n",
       "      <td>Joseph Gordon-Levitt</td>\n",
       "      <td>Estados Unidos</td>\n",
       "      <td>6.9</td>\n",
       "      <td>62814</td>\n",
       "    </tr>\n",
       "    <tr>\n",
       "      <th>1</th>\n",
       "      <td>...Y si no, nos enfadamos</td>\n",
       "      <td>1974</td>\n",
       "      <td>92</td>\n",
       "      <td>Comedia</td>\n",
       "      <td>Marcello Fondato</td>\n",
       "      <td>Marcello Fondato</td>\n",
       "      <td>Terence Hill</td>\n",
       "      <td>Italia</td>\n",
       "      <td>5.9</td>\n",
       "      <td>5238</td>\n",
       "    </tr>\n",
       "    <tr>\n",
       "      <th>2</th>\n",
       "      <td>10 razones para odiarte</td>\n",
       "      <td>1999</td>\n",
       "      <td>97</td>\n",
       "      <td>Comedia</td>\n",
       "      <td>Gil Junger</td>\n",
       "      <td>Gil Junger</td>\n",
       "      <td>Heath Ledger</td>\n",
       "      <td>Estados Unidos</td>\n",
       "      <td>5.9</td>\n",
       "      <td>21667</td>\n",
       "    </tr>\n",
       "    <tr>\n",
       "      <th>3</th>\n",
       "      <td>10.000 KM</td>\n",
       "      <td>2014</td>\n",
       "      <td>98</td>\n",
       "      <td>Romance</td>\n",
       "      <td>Carlos Marqués-Marcet</td>\n",
       "      <td>Carlos Marqués-Marcet</td>\n",
       "      <td>Natalia Tena</td>\n",
       "      <td>España</td>\n",
       "      <td>6.4</td>\n",
       "      <td>10015</td>\n",
       "    </tr>\n",
       "    <tr>\n",
       "      <th>4</th>\n",
       "      <td>100 metros</td>\n",
       "      <td>2016</td>\n",
       "      <td>108</td>\n",
       "      <td>Drama</td>\n",
       "      <td>Marcel Barrena</td>\n",
       "      <td>Marcel Barrena</td>\n",
       "      <td>Dani Rovira</td>\n",
       "      <td>España</td>\n",
       "      <td>6.6</td>\n",
       "      <td>8968</td>\n",
       "    </tr>\n",
       "  </tbody>\n",
       "</table>\n",
       "</div>"
      ],
      "text/plain": [
       "                      TITULO   AÑO  DURACION (min)   GENERO  \\\n",
       "0          (500) días juntos  2009              96  Romance   \n",
       "1  ...Y si no, nos enfadamos  1974              92  Comedia   \n",
       "2    10 razones para odiarte  1999              97  Comedia   \n",
       "3                  10.000 KM  2014              98  Romance   \n",
       "4                 100 metros  2016             108    Drama   \n",
       "\n",
       "               DIRECCION                  GUION          PROTAGONISTA  \\\n",
       "0              Marc Webb              Marc Webb  Joseph Gordon-Levitt   \n",
       "1       Marcello Fondato       Marcello Fondato          Terence Hill   \n",
       "2             Gil Junger             Gil Junger          Heath Ledger   \n",
       "3  Carlos Marqués-Marcet  Carlos Marqués-Marcet          Natalia Tena   \n",
       "4         Marcel Barrena         Marcel Barrena           Dani Rovira   \n",
       "\n",
       "             PAIS  NOTA  VOTOS  \n",
       "0  Estados Unidos   6.9  62814  \n",
       "1          Italia   5.9   5238  \n",
       "2  Estados Unidos   5.9  21667  \n",
       "3          España   6.4  10015  \n",
       "4          España   6.6   8968  "
      ]
     },
     "execution_count": 6,
     "metadata": {},
     "output_type": "execute_result"
    }
   ],
   "source": [
    "df.head()"
   ]
  },
  {
   "cell_type": "code",
   "execution_count": 3,
   "metadata": {},
   "outputs": [
    {
     "name": "stdout",
     "output_type": "stream",
     "text": [
      "<class 'pandas.core.frame.DataFrame'>\n",
      "RangeIndex: 5040 entries, 0 to 5039\n",
      "Data columns (total 10 columns):\n",
      " #   Column          Non-Null Count  Dtype  \n",
      "---  ------          --------------  -----  \n",
      " 0   TITULO          5040 non-null   object \n",
      " 1   AÑO             5040 non-null   int64  \n",
      " 2   DURACION (min)  5040 non-null   int64  \n",
      " 3   GENERO          5040 non-null   object \n",
      " 4   DIRECCION       5040 non-null   object \n",
      " 5   GUION           5040 non-null   object \n",
      " 6   PROTAGONISTA    5040 non-null   object \n",
      " 7   PAIS            5040 non-null   object \n",
      " 8   NOTA            5040 non-null   float64\n",
      " 9   VOTOS           5040 non-null   int64  \n",
      "dtypes: float64(1), int64(3), object(6)\n",
      "memory usage: 393.9+ KB\n"
     ]
    }
   ],
   "source": [
    "df.info()"
   ]
  }
 ],
 "metadata": {
  "kernelspec": {
   "display_name": "Python 3",
   "language": "python",
   "name": "python3"
  },
  "language_info": {
   "codemirror_mode": {
    "name": "ipython",
    "version": 3
   },
   "file_extension": ".py",
   "mimetype": "text/x-python",
   "name": "python",
   "nbconvert_exporter": "python",
   "pygments_lexer": "ipython3",
   "version": "3.7.4"
  },
  "orig_nbformat": 4
 },
 "nbformat": 4,
 "nbformat_minor": 2
}
