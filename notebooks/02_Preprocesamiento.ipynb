{
 "cells": [
  {
   "cell_type": "code",
   "execution_count": 10,
   "metadata": {},
   "outputs": [],
   "source": [
    "import pandas as pd\n",
    "import numpy as np\n",
    "import matplotlib.pyplot as plt\n",
    "from sklearn.preprocessing import LabelEncoder\n",
    "import os"
   ]
  },
  {
   "cell_type": "code",
   "execution_count": 11,
   "metadata": {},
   "outputs": [],
   "source": [
    "usted_esta_aqui = os.getcwd()"
   ]
  },
  {
   "cell_type": "code",
   "execution_count": 12,
   "metadata": {},
   "outputs": [],
   "source": [
    "origen = os.path.join(usted_esta_aqui)"
   ]
  },
  {
   "cell_type": "code",
   "execution_count": 13,
   "metadata": {},
   "outputs": [],
   "source": [
    "os.chdir(origen)"
   ]
  },
  {
   "cell_type": "code",
   "execution_count": 14,
   "metadata": {},
   "outputs": [],
   "source": [
    "ruta = os.path.join('data', 'raw', 'DF.csv')"
   ]
  },
  {
   "cell_type": "code",
   "execution_count": 15,
   "metadata": {},
   "outputs": [],
   "source": [
    "df = pd.read_csv(ruta)"
   ]
  },
  {
   "cell_type": "code",
   "execution_count": 16,
   "metadata": {},
   "outputs": [
    {
     "data": {
      "text/html": [
       "<div>\n",
       "<style scoped>\n",
       "    .dataframe tbody tr th:only-of-type {\n",
       "        vertical-align: middle;\n",
       "    }\n",
       "\n",
       "    .dataframe tbody tr th {\n",
       "        vertical-align: top;\n",
       "    }\n",
       "\n",
       "    .dataframe thead th {\n",
       "        text-align: right;\n",
       "    }\n",
       "</style>\n",
       "<table border=\"1\" class=\"dataframe\">\n",
       "  <thead>\n",
       "    <tr style=\"text-align: right;\">\n",
       "      <th></th>\n",
       "      <th>TITULO</th>\n",
       "      <th>AÑO</th>\n",
       "      <th>DURACION (min)</th>\n",
       "      <th>GENERO</th>\n",
       "      <th>DIRECCION</th>\n",
       "      <th>GUION</th>\n",
       "      <th>PROTAGONISTA</th>\n",
       "      <th>PAIS</th>\n",
       "      <th>NOTA</th>\n",
       "      <th>VOTOS</th>\n",
       "    </tr>\n",
       "  </thead>\n",
       "  <tbody>\n",
       "    <tr>\n",
       "      <th>0</th>\n",
       "      <td>(500) días juntos</td>\n",
       "      <td>2009</td>\n",
       "      <td>96</td>\n",
       "      <td>Romance</td>\n",
       "      <td>Marc Webb</td>\n",
       "      <td>Marc Webb</td>\n",
       "      <td>Joseph Gordon-Levitt</td>\n",
       "      <td>Estados Unidos</td>\n",
       "      <td>6.9</td>\n",
       "      <td>62814</td>\n",
       "    </tr>\n",
       "    <tr>\n",
       "      <th>1</th>\n",
       "      <td>...Y si no, nos enfadamos</td>\n",
       "      <td>1974</td>\n",
       "      <td>92</td>\n",
       "      <td>Comedia</td>\n",
       "      <td>Marcello Fondato</td>\n",
       "      <td>Marcello Fondato</td>\n",
       "      <td>Terence Hill</td>\n",
       "      <td>Italia</td>\n",
       "      <td>5.9</td>\n",
       "      <td>5238</td>\n",
       "    </tr>\n",
       "    <tr>\n",
       "      <th>2</th>\n",
       "      <td>10 razones para odiarte</td>\n",
       "      <td>1999</td>\n",
       "      <td>97</td>\n",
       "      <td>Comedia</td>\n",
       "      <td>Gil Junger</td>\n",
       "      <td>Gil Junger</td>\n",
       "      <td>Heath Ledger</td>\n",
       "      <td>Estados Unidos</td>\n",
       "      <td>5.9</td>\n",
       "      <td>21667</td>\n",
       "    </tr>\n",
       "    <tr>\n",
       "      <th>3</th>\n",
       "      <td>10.000 KM</td>\n",
       "      <td>2014</td>\n",
       "      <td>98</td>\n",
       "      <td>Romance</td>\n",
       "      <td>Carlos Marqués-Marcet</td>\n",
       "      <td>Carlos Marqués-Marcet</td>\n",
       "      <td>Natalia Tena</td>\n",
       "      <td>España</td>\n",
       "      <td>6.4</td>\n",
       "      <td>10015</td>\n",
       "    </tr>\n",
       "    <tr>\n",
       "      <th>4</th>\n",
       "      <td>100 metros</td>\n",
       "      <td>2016</td>\n",
       "      <td>108</td>\n",
       "      <td>Drama</td>\n",
       "      <td>Marcel Barrena</td>\n",
       "      <td>Marcel Barrena</td>\n",
       "      <td>Dani Rovira</td>\n",
       "      <td>España</td>\n",
       "      <td>6.6</td>\n",
       "      <td>8968</td>\n",
       "    </tr>\n",
       "  </tbody>\n",
       "</table>\n",
       "</div>"
      ],
      "text/plain": [
       "                      TITULO   AÑO  DURACION (min)   GENERO  \\\n",
       "0          (500) días juntos  2009              96  Romance   \n",
       "1  ...Y si no, nos enfadamos  1974              92  Comedia   \n",
       "2    10 razones para odiarte  1999              97  Comedia   \n",
       "3                  10.000 KM  2014              98  Romance   \n",
       "4                 100 metros  2016             108    Drama   \n",
       "\n",
       "               DIRECCION                  GUION          PROTAGONISTA  \\\n",
       "0              Marc Webb              Marc Webb  Joseph Gordon-Levitt   \n",
       "1       Marcello Fondato       Marcello Fondato          Terence Hill   \n",
       "2             Gil Junger             Gil Junger          Heath Ledger   \n",
       "3  Carlos Marqués-Marcet  Carlos Marqués-Marcet          Natalia Tena   \n",
       "4         Marcel Barrena         Marcel Barrena           Dani Rovira   \n",
       "\n",
       "             PAIS  NOTA  VOTOS  \n",
       "0  Estados Unidos   6.9  62814  \n",
       "1          Italia   5.9   5238  \n",
       "2  Estados Unidos   5.9  21667  \n",
       "3          España   6.4  10015  \n",
       "4          España   6.6   8968  "
      ]
     },
     "execution_count": 16,
     "metadata": {},
     "output_type": "execute_result"
    }
   ],
   "source": [
    "df.head()"
   ]
  },
  {
   "attachments": {},
   "cell_type": "markdown",
   "metadata": {},
   "source": [
    "### LIMPIEZA DE DATOS"
   ]
  },
  {
   "attachments": {},
   "cell_type": "markdown",
   "metadata": {},
   "source": [
    "Elimino las columnas que no voy a usar"
   ]
  },
  {
   "cell_type": "code",
   "execution_count": 4,
   "metadata": {},
   "outputs": [],
   "source": [
    "df = df.drop(['TITULO', 'GUION'], axis=1)"
   ]
  },
  {
   "attachments": {},
   "cell_type": "markdown",
   "metadata": {},
   "source": [
    "Outliers"
   ]
  },
  {
   "cell_type": "code",
   "execution_count": 5,
   "metadata": {},
   "outputs": [
    {
     "data": {
      "image/png": "[encoded data removed]",
      "text/plain": [
       "<Figure size 640x480 with 1 Axes>"
      ]
     },
     "metadata": {},
     "output_type": "display_data"
    }
   ],
   "source": [
    "plt.boxplot(df['DURACION (min)']);"
   ]
  },
  {
   "cell_type": "code",
   "execution_count": 6,
   "metadata": {},
   "outputs": [],
   "source": [
    "df = df[df['DURACION (min)'] <= 200]"
   ]
  },
  {
   "cell_type": "code",
   "execution_count": 7,
   "metadata": {},
   "outputs": [
    {
     "data": {
      "image/png": "[encoded data removed]",
      "text/plain": [
       "<Figure size 640x480 with 1 Axes>"
      ]
     },
     "metadata": {},
     "output_type": "display_data"
    }
   ],
   "source": [
    "plt.boxplot(df['VOTOS']);"
   ]
  },
  {
   "cell_type": "code",
   "execution_count": 8,
   "metadata": {},
   "outputs": [],
   "source": [
    "df = df[df['VOTOS'] <= 125000]"
   ]
  },
  {
   "attachments": {},
   "cell_type": "markdown",
   "metadata": {},
   "source": [
    "### FEATURE ENGINEERING"
   ]
  },
  {
   "attachments": {},
   "cell_type": "markdown",
   "metadata": {},
   "source": [
    "*Tras varias pruebas, he optado por clasificar los valores para cada una de las variables que tengo con respecto a la nota.\n",
    "Primero, calculo la nota media para cada uno de los valores. \n",
    "Posteriormente, agrupo los valores en un rango del 0 al 9 con respecto a la media generada anteriormente.\n",
    "La idea es hacer un filtrado, por gustos, siendo los que se encuentran en los valores más cercanos al 9, los que prefiere el usuario.*"
   ]
  },
  {
   "attachments": {},
   "cell_type": "markdown",
   "metadata": {},
   "source": [
    "Calculo la nota media para cada una de las variables"
   ]
  },
  {
   "cell_type": "code",
   "execution_count": 9,
   "metadata": {},
   "outputs": [],
   "source": [
    "columnas = ['AÑO', 'DURACION (min)', 'GENERO', 'DIRECCION', 'PROTAGONISTA', 'PAIS', 'VOTOS']"
   ]
  },
  {
   "cell_type": "code",
   "execution_count": 10,
   "metadata": {},
   "outputs": [],
   "source": [
    "for columna in columnas:\n",
    "        media_por_valor = df.groupby(columna)['NOTA'].mean().round(2)\n",
    "        nueva_columna = 'NOTA_' + columna\n",
    "        df[nueva_columna] = df[columna].map(media_por_valor)"
   ]
  },
  {
   "attachments": {},
   "cell_type": "markdown",
   "metadata": {},
   "source": [
    "Clasifico los valores con respecto a la nota media"
   ]
  },
  {
   "attachments": {},
   "cell_type": "markdown",
   "metadata": {},
   "source": [
    "1. Año"
   ]
  },
  {
   "cell_type": "code",
   "execution_count": 11,
   "metadata": {},
   "outputs": [
    {
     "data": {
      "text/plain": [
       "6.99"
      ]
     },
     "execution_count": 11,
     "metadata": {},
     "output_type": "execute_result"
    }
   ],
   "source": [
    "df['NOTA_AÑO'].max()"
   ]
  },
  {
   "cell_type": "code",
   "execution_count": 12,
   "metadata": {},
   "outputs": [
    {
     "data": {
      "text/plain": [
       "6.34"
      ]
     },
     "execution_count": 12,
     "metadata": {},
     "output_type": "execute_result"
    }
   ],
   "source": [
    "df['NOTA_AÑO'].min()"
   ]
  },
  {
   "cell_type": "code",
   "execution_count": 13,
   "metadata": {},
   "outputs": [],
   "source": [
    "bins = [6.34, 6.405, 6.47, 6.535, 6.6, 6.665, 6.73, 6.795, 6.86, 6.925, 7]\n",
    "labels = [0, 1, 2, 3, 4, 5, 6, 7, 8, 9]\n",
    "df['AÑO_RANKING'] = pd.cut(df['NOTA_AÑO'], bins=bins, labels=labels, right=False).astype(int)"
   ]
  },
  {
   "attachments": {},
   "cell_type": "markdown",
   "metadata": {},
   "source": [
    "2. Duración"
   ]
  },
  {
   "cell_type": "code",
   "execution_count": 14,
   "metadata": {},
   "outputs": [
    {
     "data": {
      "text/plain": [
       "7.95"
      ]
     },
     "execution_count": 14,
     "metadata": {},
     "output_type": "execute_result"
    }
   ],
   "source": [
    "df['NOTA_DURACION (min)'].max()"
   ]
  },
  {
   "cell_type": "code",
   "execution_count": 15,
   "metadata": {},
   "outputs": [
    {
     "data": {
      "text/plain": [
       "6.2"
      ]
     },
     "execution_count": 15,
     "metadata": {},
     "output_type": "execute_result"
    }
   ],
   "source": [
    "df['NOTA_DURACION (min)'].min()"
   ]
  },
  {
   "cell_type": "code",
   "execution_count": 16,
   "metadata": {},
   "outputs": [],
   "source": [
    "bins = [6.2, 6.375, 6.55, 6.725, 6.9, 7.075, 7.25, 7.425, 7.6, 7.775, 8]\n",
    "labels = [0, 1, 2, 3, 4, 5, 6, 7, 8, 9]\n",
    "df['DURACION_RANKING'] = pd.cut(df['NOTA_DURACION (min)'], bins=bins, labels=labels, right=False).astype(int)"
   ]
  },
  {
   "attachments": {},
   "cell_type": "markdown",
   "metadata": {},
   "source": [
    "3. Género"
   ]
  },
  {
   "cell_type": "code",
   "execution_count": 17,
   "metadata": {},
   "outputs": [
    {
     "data": {
      "text/plain": [
       "6.75"
      ]
     },
     "execution_count": 17,
     "metadata": {},
     "output_type": "execute_result"
    }
   ],
   "source": [
    "df['NOTA_GENERO'].max()"
   ]
  },
  {
   "cell_type": "code",
   "execution_count": 18,
   "metadata": {},
   "outputs": [
    {
     "data": {
      "text/plain": [
       "5.97"
      ]
     },
     "execution_count": 18,
     "metadata": {},
     "output_type": "execute_result"
    }
   ],
   "source": [
    "df['NOTA_GENERO'].min()"
   ]
  },
  {
   "cell_type": "code",
   "execution_count": 19,
   "metadata": {},
   "outputs": [],
   "source": [
    "bins = [5.97, 6.048, 6.126, 6.204, 6.282, 6.36, 6.438, 6.516, 6.594, 6.672, 7]\n",
    "labels = [0, 1, 2, 3, 4, 5, 6, 7, 8, 9]\n",
    "df['GENERO_RANKING'] = pd.cut(df['NOTA_GENERO'], bins=bins, labels=labels, right=False).astype(int)"
   ]
  },
  {
   "attachments": {},
   "cell_type": "markdown",
   "metadata": {},
   "source": [
    "4. Dirección"
   ]
  },
  {
   "cell_type": "code",
   "execution_count": 20,
   "metadata": {},
   "outputs": [
    {
     "data": {
      "text/plain": [
       "8.1"
      ]
     },
     "execution_count": 20,
     "metadata": {},
     "output_type": "execute_result"
    }
   ],
   "source": [
    "df['NOTA_DIRECCION'].max()"
   ]
  },
  {
   "cell_type": "code",
   "execution_count": 21,
   "metadata": {},
   "outputs": [
    {
     "data": {
      "text/plain": [
       "5.8"
      ]
     },
     "execution_count": 21,
     "metadata": {},
     "output_type": "execute_result"
    }
   ],
   "source": [
    "df['NOTA_DIRECCION'].min()"
   ]
  },
  {
   "cell_type": "code",
   "execution_count": 22,
   "metadata": {},
   "outputs": [],
   "source": [
    "bins = [5.8, 6.03, 6.26, 6.49, 6.72, 6.95, 7.18, 7.41, 7.64, 7.87, 9]\n",
    "labels = [0, 1, 2, 3, 4, 5, 6, 7, 8, 9]\n",
    "df['DIRECCION_RANKING'] = pd.cut(df['NOTA_DIRECCION'], bins=bins, labels=labels, right=False).astype(int)"
   ]
  },
  {
   "attachments": {},
   "cell_type": "markdown",
   "metadata": {},
   "source": [
    "5. Protagonista"
   ]
  },
  {
   "cell_type": "code",
   "execution_count": 23,
   "metadata": {},
   "outputs": [
    {
     "data": {
      "text/plain": [
       "8.4"
      ]
     },
     "execution_count": 23,
     "metadata": {},
     "output_type": "execute_result"
    }
   ],
   "source": [
    "df['NOTA_PROTAGONISTA'].max()"
   ]
  },
  {
   "cell_type": "code",
   "execution_count": 24,
   "metadata": {},
   "outputs": [
    {
     "data": {
      "text/plain": [
       "5.8"
      ]
     },
     "execution_count": 24,
     "metadata": {},
     "output_type": "execute_result"
    }
   ],
   "source": [
    "df['NOTA_PROTAGONISTA'].min()"
   ]
  },
  {
   "cell_type": "code",
   "execution_count": 25,
   "metadata": {},
   "outputs": [],
   "source": [
    "bins = [5.8, 6.06, 6.32, 6.58, 6.84, 7.1, 7.36, 7.62, 7.88, 8.14, 9]\n",
    "labels = [0, 1, 2, 3, 4, 5, 6, 7, 8, 9]\n",
    "df['PROTAGONISTA_RANKING'] = pd.cut(df['NOTA_PROTAGONISTA'], bins=bins, labels=labels, right=False).astype(int)"
   ]
  },
  {
   "attachments": {},
   "cell_type": "markdown",
   "metadata": {},
   "source": [
    "6. País"
   ]
  },
  {
   "cell_type": "code",
   "execution_count": 26,
   "metadata": {},
   "outputs": [
    {
     "data": {
      "text/plain": [
       "7.74"
      ]
     },
     "execution_count": 26,
     "metadata": {},
     "output_type": "execute_result"
    }
   ],
   "source": [
    "df['NOTA_PAIS'].max()"
   ]
  },
  {
   "cell_type": "code",
   "execution_count": 27,
   "metadata": {},
   "outputs": [
    {
     "data": {
      "text/plain": [
       "5.9"
      ]
     },
     "execution_count": 27,
     "metadata": {},
     "output_type": "execute_result"
    }
   ],
   "source": [
    "df['NOTA_PAIS'].min()"
   ]
  },
  {
   "cell_type": "code",
   "execution_count": 28,
   "metadata": {},
   "outputs": [],
   "source": [
    "bins = [5.9, 6.084, 6.268, 6.452, 6.636, 6.82, 7.004, 7.188, 7.372, 7.556, 8]\n",
    "labels = [0, 1, 2, 3, 4, 5, 6, 7, 8, 9]\n",
    "df['PAIS_RANKING'] = pd.cut(df['NOTA_PAIS'], bins=bins, labels=labels, right=False).astype(int)"
   ]
  },
  {
   "attachments": {},
   "cell_type": "markdown",
   "metadata": {},
   "source": [
    "7. Votos"
   ]
  },
  {
   "cell_type": "code",
   "execution_count": 29,
   "metadata": {},
   "outputs": [
    {
     "data": {
      "text/plain": [
       "8.5"
      ]
     },
     "execution_count": 29,
     "metadata": {},
     "output_type": "execute_result"
    }
   ],
   "source": [
    "df['NOTA_VOTOS'].max()"
   ]
  },
  {
   "cell_type": "code",
   "execution_count": 30,
   "metadata": {},
   "outputs": [
    {
     "data": {
      "text/plain": [
       "5.8"
      ]
     },
     "execution_count": 30,
     "metadata": {},
     "output_type": "execute_result"
    }
   ],
   "source": [
    "df['NOTA_VOTOS'].min()"
   ]
  },
  {
   "cell_type": "code",
   "execution_count": 31,
   "metadata": {},
   "outputs": [],
   "source": [
    "bins = [5.8, 6.07, 6.34, 6.61, 6.88, 7.15, 7.42, 7.69, 7.96, 8.23, 9]\n",
    "labels = [0, 1, 2, 3, 4, 5, 6, 7, 8, 9]\n",
    "df['VOTOS_RANKING'] = pd.cut(df['NOTA_VOTOS'], bins=bins, labels=labels, right=False).astype(int)"
   ]
  },
  {
   "cell_type": "code",
   "execution_count": 32,
   "metadata": {},
   "outputs": [
    {
     "data": {
      "text/html": [
       "<div>\n",
       "<style scoped>\n",
       "    .dataframe tbody tr th:only-of-type {\n",
       "        vertical-align: middle;\n",
       "    }\n",
       "\n",
       "    .dataframe tbody tr th {\n",
       "        vertical-align: top;\n",
       "    }\n",
       "\n",
       "    .dataframe thead th {\n",
       "        text-align: right;\n",
       "    }\n",
       "</style>\n",
       "<table border=\"1\" class=\"dataframe\">\n",
       "  <thead>\n",
       "    <tr style=\"text-align: right;\">\n",
       "      <th></th>\n",
       "      <th>AÑO</th>\n",
       "      <th>DURACION (min)</th>\n",
       "      <th>GENERO</th>\n",
       "      <th>DIRECCION</th>\n",
       "      <th>PROTAGONISTA</th>\n",
       "      <th>PAIS</th>\n",
       "      <th>NOTA</th>\n",
       "      <th>VOTOS</th>\n",
       "      <th>NOTA_AÑO</th>\n",
       "      <th>NOTA_DURACION (min)</th>\n",
       "      <th>...</th>\n",
       "      <th>NOTA_PROTAGONISTA</th>\n",
       "      <th>NOTA_PAIS</th>\n",
       "      <th>NOTA_VOTOS</th>\n",
       "      <th>AÑO_RANKING</th>\n",
       "      <th>DURACION_RANKING</th>\n",
       "      <th>GENERO_RANKING</th>\n",
       "      <th>DIRECCION_RANKING</th>\n",
       "      <th>PROTAGONISTA_RANKING</th>\n",
       "      <th>PAIS_RANKING</th>\n",
       "      <th>VOTOS_RANKING</th>\n",
       "    </tr>\n",
       "  </thead>\n",
       "  <tbody>\n",
       "    <tr>\n",
       "      <th>0</th>\n",
       "      <td>2009</td>\n",
       "      <td>96</td>\n",
       "      <td>Romance</td>\n",
       "      <td>Marc Webb</td>\n",
       "      <td>Joseph Gordon-Levitt</td>\n",
       "      <td>Estados Unidos</td>\n",
       "      <td>6.9</td>\n",
       "      <td>62814</td>\n",
       "      <td>6.45</td>\n",
       "      <td>6.40</td>\n",
       "      <td>...</td>\n",
       "      <td>6.58</td>\n",
       "      <td>6.48</td>\n",
       "      <td>6.9</td>\n",
       "      <td>1</td>\n",
       "      <td>1</td>\n",
       "      <td>6</td>\n",
       "      <td>2</td>\n",
       "      <td>3</td>\n",
       "      <td>3</td>\n",
       "      <td>4</td>\n",
       "    </tr>\n",
       "    <tr>\n",
       "      <th>1</th>\n",
       "      <td>1974</td>\n",
       "      <td>92</td>\n",
       "      <td>Comedia</td>\n",
       "      <td>Marcello Fondato</td>\n",
       "      <td>Terence Hill</td>\n",
       "      <td>Italia</td>\n",
       "      <td>5.9</td>\n",
       "      <td>5238</td>\n",
       "      <td>6.87</td>\n",
       "      <td>6.40</td>\n",
       "      <td>...</td>\n",
       "      <td>5.95</td>\n",
       "      <td>6.66</td>\n",
       "      <td>5.9</td>\n",
       "      <td>8</td>\n",
       "      <td>1</td>\n",
       "      <td>6</td>\n",
       "      <td>0</td>\n",
       "      <td>0</td>\n",
       "      <td>4</td>\n",
       "      <td>0</td>\n",
       "    </tr>\n",
       "    <tr>\n",
       "      <th>2</th>\n",
       "      <td>1999</td>\n",
       "      <td>97</td>\n",
       "      <td>Comedia</td>\n",
       "      <td>Gil Junger</td>\n",
       "      <td>Heath Ledger</td>\n",
       "      <td>Estados Unidos</td>\n",
       "      <td>5.9</td>\n",
       "      <td>21667</td>\n",
       "      <td>6.61</td>\n",
       "      <td>6.43</td>\n",
       "      <td>...</td>\n",
       "      <td>6.38</td>\n",
       "      <td>6.48</td>\n",
       "      <td>5.9</td>\n",
       "      <td>4</td>\n",
       "      <td>1</td>\n",
       "      <td>6</td>\n",
       "      <td>0</td>\n",
       "      <td>2</td>\n",
       "      <td>3</td>\n",
       "      <td>0</td>\n",
       "    </tr>\n",
       "    <tr>\n",
       "      <th>3</th>\n",
       "      <td>2014</td>\n",
       "      <td>98</td>\n",
       "      <td>Romance</td>\n",
       "      <td>Carlos Marqués-Marcet</td>\n",
       "      <td>Natalia Tena</td>\n",
       "      <td>España</td>\n",
       "      <td>6.4</td>\n",
       "      <td>10015</td>\n",
       "      <td>6.44</td>\n",
       "      <td>6.43</td>\n",
       "      <td>...</td>\n",
       "      <td>6.40</td>\n",
       "      <td>6.40</td>\n",
       "      <td>6.4</td>\n",
       "      <td>1</td>\n",
       "      <td>1</td>\n",
       "      <td>6</td>\n",
       "      <td>2</td>\n",
       "      <td>2</td>\n",
       "      <td>2</td>\n",
       "      <td>2</td>\n",
       "    </tr>\n",
       "    <tr>\n",
       "      <th>4</th>\n",
       "      <td>2016</td>\n",
       "      <td>108</td>\n",
       "      <td>Drama</td>\n",
       "      <td>Marcel Barrena</td>\n",
       "      <td>Dani Rovira</td>\n",
       "      <td>España</td>\n",
       "      <td>6.6</td>\n",
       "      <td>8968</td>\n",
       "      <td>6.42</td>\n",
       "      <td>6.41</td>\n",
       "      <td>...</td>\n",
       "      <td>6.30</td>\n",
       "      <td>6.40</td>\n",
       "      <td>6.6</td>\n",
       "      <td>1</td>\n",
       "      <td>1</td>\n",
       "      <td>8</td>\n",
       "      <td>2</td>\n",
       "      <td>1</td>\n",
       "      <td>2</td>\n",
       "      <td>2</td>\n",
       "    </tr>\n",
       "  </tbody>\n",
       "</table>\n",
       "<p>5 rows × 22 columns</p>\n",
       "</div>"
      ],
      "text/plain": [
       "    AÑO  DURACION (min)   GENERO              DIRECCION          PROTAGONISTA  \\\n",
       "0  2009              96  Romance              Marc Webb  Joseph Gordon-Levitt   \n",
       "1  1974              92  Comedia       Marcello Fondato          Terence Hill   \n",
       "2  1999              97  Comedia             Gil Junger          Heath Ledger   \n",
       "3  2014              98  Romance  Carlos Marqués-Marcet          Natalia Tena   \n",
       "4  2016             108    Drama         Marcel Barrena           Dani Rovira   \n",
       "\n",
       "             PAIS  NOTA  VOTOS  NOTA_AÑO  NOTA_DURACION (min)  ...  \\\n",
       "0  Estados Unidos   6.9  62814      6.45                 6.40  ...   \n",
       "1          Italia   5.9   5238      6.87                 6.40  ...   \n",
       "2  Estados Unidos   5.9  21667      6.61                 6.43  ...   \n",
       "3          España   6.4  10015      6.44                 6.43  ...   \n",
       "4          España   6.6   8968      6.42                 6.41  ...   \n",
       "\n",
       "   NOTA_PROTAGONISTA  NOTA_PAIS  NOTA_VOTOS  AÑO_RANKING  DURACION_RANKING  \\\n",
       "0               6.58       6.48         6.9            1                 1   \n",
       "1               5.95       6.66         5.9            8                 1   \n",
       "2               6.38       6.48         5.9            4                 1   \n",
       "3               6.40       6.40         6.4            1                 1   \n",
       "4               6.30       6.40         6.6            1                 1   \n",
       "\n",
       "   GENERO_RANKING  DIRECCION_RANKING  PROTAGONISTA_RANKING  PAIS_RANKING  \\\n",
       "0               6                  2                     3             3   \n",
       "1               6                  0                     0             4   \n",
       "2               6                  0                     2             3   \n",
       "3               6                  2                     2             2   \n",
       "4               8                  2                     1             2   \n",
       "\n",
       "   VOTOS_RANKING  \n",
       "0              4  \n",
       "1              0  \n",
       "2              0  \n",
       "3              2  \n",
       "4              2  \n",
       "\n",
       "[5 rows x 22 columns]"
      ]
     },
     "execution_count": 32,
     "metadata": {},
     "output_type": "execute_result"
    }
   ],
   "source": [
    "df.head()"
   ]
  },
  {
   "attachments": {},
   "cell_type": "markdown",
   "metadata": {},
   "source": [
    "Elimino las variables iniciales"
   ]
  },
  {
   "cell_type": "code",
   "execution_count": 33,
   "metadata": {},
   "outputs": [],
   "source": [
    "df = df.drop(['AÑO', 'DURACION (min)', 'GENERO', 'DIRECCION', 'PROTAGONISTA', 'PAIS', 'VOTOS'], axis=1)"
   ]
  },
  {
   "cell_type": "code",
   "execution_count": 34,
   "metadata": {},
   "outputs": [
    {
     "data": {
      "text/html": [
       "<div>\n",
       "<style scoped>\n",
       "    .dataframe tbody tr th:only-of-type {\n",
       "        vertical-align: middle;\n",
       "    }\n",
       "\n",
       "    .dataframe tbody tr th {\n",
       "        vertical-align: top;\n",
       "    }\n",
       "\n",
       "    .dataframe thead th {\n",
       "        text-align: right;\n",
       "    }\n",
       "</style>\n",
       "<table border=\"1\" class=\"dataframe\">\n",
       "  <thead>\n",
       "    <tr style=\"text-align: right;\">\n",
       "      <th></th>\n",
       "      <th>NOTA</th>\n",
       "      <th>NOTA_AÑO</th>\n",
       "      <th>NOTA_DURACION (min)</th>\n",
       "      <th>NOTA_GENERO</th>\n",
       "      <th>NOTA_DIRECCION</th>\n",
       "      <th>NOTA_PROTAGONISTA</th>\n",
       "      <th>NOTA_PAIS</th>\n",
       "      <th>NOTA_VOTOS</th>\n",
       "      <th>AÑO_RANKING</th>\n",
       "      <th>DURACION_RANKING</th>\n",
       "      <th>GENERO_RANKING</th>\n",
       "      <th>DIRECCION_RANKING</th>\n",
       "      <th>PROTAGONISTA_RANKING</th>\n",
       "      <th>PAIS_RANKING</th>\n",
       "      <th>VOTOS_RANKING</th>\n",
       "    </tr>\n",
       "  </thead>\n",
       "  <tbody>\n",
       "    <tr>\n",
       "      <th>0</th>\n",
       "      <td>6.9</td>\n",
       "      <td>6.45</td>\n",
       "      <td>6.40</td>\n",
       "      <td>6.47</td>\n",
       "      <td>6.40</td>\n",
       "      <td>6.58</td>\n",
       "      <td>6.48</td>\n",
       "      <td>6.9</td>\n",
       "      <td>1</td>\n",
       "      <td>1</td>\n",
       "      <td>6</td>\n",
       "      <td>2</td>\n",
       "      <td>3</td>\n",
       "      <td>3</td>\n",
       "      <td>4</td>\n",
       "    </tr>\n",
       "    <tr>\n",
       "      <th>1</th>\n",
       "      <td>5.9</td>\n",
       "      <td>6.87</td>\n",
       "      <td>6.40</td>\n",
       "      <td>6.47</td>\n",
       "      <td>5.90</td>\n",
       "      <td>5.95</td>\n",
       "      <td>6.66</td>\n",
       "      <td>5.9</td>\n",
       "      <td>8</td>\n",
       "      <td>1</td>\n",
       "      <td>6</td>\n",
       "      <td>0</td>\n",
       "      <td>0</td>\n",
       "      <td>4</td>\n",
       "      <td>0</td>\n",
       "    </tr>\n",
       "    <tr>\n",
       "      <th>2</th>\n",
       "      <td>5.9</td>\n",
       "      <td>6.61</td>\n",
       "      <td>6.43</td>\n",
       "      <td>6.47</td>\n",
       "      <td>5.95</td>\n",
       "      <td>6.38</td>\n",
       "      <td>6.48</td>\n",
       "      <td>5.9</td>\n",
       "      <td>4</td>\n",
       "      <td>1</td>\n",
       "      <td>6</td>\n",
       "      <td>0</td>\n",
       "      <td>2</td>\n",
       "      <td>3</td>\n",
       "      <td>0</td>\n",
       "    </tr>\n",
       "    <tr>\n",
       "      <th>3</th>\n",
       "      <td>6.4</td>\n",
       "      <td>6.44</td>\n",
       "      <td>6.43</td>\n",
       "      <td>6.47</td>\n",
       "      <td>6.40</td>\n",
       "      <td>6.40</td>\n",
       "      <td>6.40</td>\n",
       "      <td>6.4</td>\n",
       "      <td>1</td>\n",
       "      <td>1</td>\n",
       "      <td>6</td>\n",
       "      <td>2</td>\n",
       "      <td>2</td>\n",
       "      <td>2</td>\n",
       "      <td>2</td>\n",
       "    </tr>\n",
       "    <tr>\n",
       "      <th>4</th>\n",
       "      <td>6.6</td>\n",
       "      <td>6.42</td>\n",
       "      <td>6.41</td>\n",
       "      <td>6.63</td>\n",
       "      <td>6.30</td>\n",
       "      <td>6.30</td>\n",
       "      <td>6.40</td>\n",
       "      <td>6.6</td>\n",
       "      <td>1</td>\n",
       "      <td>1</td>\n",
       "      <td>8</td>\n",
       "      <td>2</td>\n",
       "      <td>1</td>\n",
       "      <td>2</td>\n",
       "      <td>2</td>\n",
       "    </tr>\n",
       "  </tbody>\n",
       "</table>\n",
       "</div>"
      ],
      "text/plain": [
       "   NOTA  NOTA_AÑO  NOTA_DURACION (min)  NOTA_GENERO  NOTA_DIRECCION  \\\n",
       "0   6.9      6.45                 6.40         6.47            6.40   \n",
       "1   5.9      6.87                 6.40         6.47            5.90   \n",
       "2   5.9      6.61                 6.43         6.47            5.95   \n",
       "3   6.4      6.44                 6.43         6.47            6.40   \n",
       "4   6.6      6.42                 6.41         6.63            6.30   \n",
       "\n",
       "   NOTA_PROTAGONISTA  NOTA_PAIS  NOTA_VOTOS  AÑO_RANKING  DURACION_RANKING  \\\n",
       "0               6.58       6.48         6.9            1                 1   \n",
       "1               5.95       6.66         5.9            8                 1   \n",
       "2               6.38       6.48         5.9            4                 1   \n",
       "3               6.40       6.40         6.4            1                 1   \n",
       "4               6.30       6.40         6.6            1                 1   \n",
       "\n",
       "   GENERO_RANKING  DIRECCION_RANKING  PROTAGONISTA_RANKING  PAIS_RANKING  \\\n",
       "0               6                  2                     3             3   \n",
       "1               6                  0                     0             4   \n",
       "2               6                  0                     2             3   \n",
       "3               6                  2                     2             2   \n",
       "4               8                  2                     1             2   \n",
       "\n",
       "   VOTOS_RANKING  \n",
       "0              4  \n",
       "1              0  \n",
       "2              0  \n",
       "3              2  \n",
       "4              2  "
      ]
     },
     "execution_count": 34,
     "metadata": {},
     "output_type": "execute_result"
    }
   ],
   "source": [
    "df.head()"
   ]
  },
  {
   "cell_type": "code",
   "execution_count": 35,
   "metadata": {},
   "outputs": [
    {
     "name": "stdout",
     "output_type": "stream",
     "text": [
      "<class 'pandas.core.frame.DataFrame'>\n",
      "Index: 4961 entries, 0 to 5039\n",
      "Data columns (total 15 columns):\n",
      " #   Column                Non-Null Count  Dtype  \n",
      "---  ------                --------------  -----  \n",
      " 0   NOTA                  4961 non-null   float64\n",
      " 1   NOTA_AÑO              4961 non-null   float64\n",
      " 2   NOTA_DURACION (min)   4961 non-null   float64\n",
      " 3   NOTA_GENERO           4961 non-null   float64\n",
      " 4   NOTA_DIRECCION        4961 non-null   float64\n",
      " 5   NOTA_PROTAGONISTA     4961 non-null   float64\n",
      " 6   NOTA_PAIS             4961 non-null   float64\n",
      " 7   NOTA_VOTOS            4961 non-null   float64\n",
      " 8   AÑO_RANKING           4961 non-null   int32  \n",
      " 9   DURACION_RANKING      4961 non-null   int32  \n",
      " 10  GENERO_RANKING        4961 non-null   int32  \n",
      " 11  DIRECCION_RANKING     4961 non-null   int32  \n",
      " 12  PROTAGONISTA_RANKING  4961 non-null   int32  \n",
      " 13  PAIS_RANKING          4961 non-null   int32  \n",
      " 14  VOTOS_RANKING         4961 non-null   int32  \n",
      "dtypes: float64(8), int32(7)\n",
      "memory usage: 484.5 KB\n"
     ]
    }
   ],
   "source": [
    "df.info()"
   ]
  },
  {
   "cell_type": "code",
   "execution_count": 8,
   "metadata": {},
   "outputs": [],
   "source": [
    "destino = os.path.join('data', 'processed', 'data.csv')"
   ]
  },
  {
   "cell_type": "code",
   "execution_count": 9,
   "metadata": {},
   "outputs": [],
   "source": [
    "df.to_csv(destino, index=False)"
   ]
  }
 ],
 "metadata": {
  "kernelspec": {
   "display_name": "Python 3",
   "language": "python",
   "name": "python3"
  },
  "language_info": {
   "codemirror_mode": {
    "name": "ipython",
    "version": 3
   },
   "file_extension": ".py",
   "mimetype": "text/x-python",
   "name": "python",
   "nbconvert_exporter": "python",
   "pygments_lexer": "ipython3",
   "version": "3.11.4"
  },
  "orig_nbformat": 4
 },
 "nbformat": 4,
 "nbformat_minor": 2
}
