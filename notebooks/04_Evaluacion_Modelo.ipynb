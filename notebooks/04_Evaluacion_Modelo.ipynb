{
 "cells": [
  {
   "cell_type": "code",
   "execution_count": 9,
   "metadata": {},
   "outputs": [],
   "source": [
    "import pandas as pd\n",
    "import numpy as np\n",
    "from sklearn.metrics import r2_score, mean_absolute_error, mean_absolute_percentage_error, mean_squared_error, silhouette_score, precision_score, recall_score, f1_score, confusion_matrix, roc_curve, roc_auc_score\n",
    "import matplotlib.pyplot as plt\n",
    "import joblib\n",
    "import os"
   ]
  },
  {
   "cell_type": "code",
   "execution_count": null,
   "metadata": {},
   "outputs": [],
   "source": [
    "usted_esta_aqui = os.getcwd()"
   ]
  },
  {
   "cell_type": "code",
   "execution_count": null,
   "metadata": {},
   "outputs": [],
   "source": [
    "origen = os.path.join(usted_esta_aqui)"
   ]
  },
  {
   "cell_type": "code",
   "execution_count": null,
   "metadata": {},
   "outputs": [],
   "source": [
    "os.chdir(origen)"
   ]
  },
  {
   "cell_type": "code",
   "execution_count": null,
   "metadata": {},
   "outputs": [],
   "source": [
    "ruta = os.path.join('data', 'test', 'test.csv')"
   ]
  },
  {
   "cell_type": "code",
   "execution_count": 10,
   "metadata": {},
   "outputs": [],
   "source": [
    "test_data = pd.read_csv(ruta)"
   ]
  },
  {
   "cell_type": "code",
   "execution_count": null,
   "metadata": {},
   "outputs": [],
   "source": [
    "linear_regression_ruta = os.path.join('models', 'linear_regression.pkl')\n",
    "ridge_ruta = os.path.join('models', 'ridge.pkl')\n",
    "lasso_ruta = os.path.join('models', 'lasso.pkl')\n",
    "svr_ruta = os.path.join('models', 'svr.pkl')\n",
    "random_forest_ruta = os.path.join('models', 'random_forest.pkl')\n",
    "kmeans_ruta = os.path.join('models', 'kmeans.pkl')"
   ]
  },
  {
   "cell_type": "code",
   "execution_count": 11,
   "metadata": {},
   "outputs": [],
   "source": [
    "linear_regression = joblib.load(linear_regression_ruta)\n",
    "ridge = joblib.load(ridge_ruta)\n",
    "lasso = joblib.load(lasso_ruta)\n",
    "svr = joblib.load(svr_ruta)\n",
    "random_forest = joblib.load(random_forest_ruta)\n",
    "kmeans = joblib.load(kmeans_ruta)"
   ]
  },
  {
   "cell_type": "code",
   "execution_count": 12,
   "metadata": {},
   "outputs": [],
   "source": [
    "X_test = test_data.drop('NOTA', axis=1)  \n",
    "y_test = test_data['NOTA']"
   ]
  },
  {
   "attachments": {},
   "cell_type": "markdown",
   "metadata": {},
   "source": [
    "MODELOS SUPERVISADOS"
   ]
  },
  {
   "cell_type": "code",
   "execution_count": 13,
   "metadata": {},
   "outputs": [],
   "source": [
    "linear_regression_pred = linear_regression.predict(X_test)\n",
    "ridge_pred = ridge.predict(X_test)\n",
    "lasso_pred = lasso.predict(X_test)\n",
    "svr_pred = svr.predict(X_test)\n",
    "random_forest_pred = random_forest.predict(X_test)"
   ]
  },
  {
   "cell_type": "code",
   "execution_count": 14,
   "metadata": {},
   "outputs": [],
   "source": [
    "metrics = {\n",
    "    'linear_regression': [r2_score(y_test, linear_regression_pred),\n",
    "                          mean_absolute_error(y_test, linear_regression_pred),\n",
    "                          mean_absolute_percentage_error(y_test, linear_regression_pred),\n",
    "                          mean_squared_error(y_test, linear_regression_pred),\n",
    "                          np.sqrt(mean_squared_error(y_test, linear_regression_pred))],\n",
    "    'ridge': [r2_score(y_test, ridge_pred),\n",
    "              mean_absolute_error(y_test, ridge_pred),\n",
    "              mean_absolute_percentage_error(y_test, ridge_pred),\n",
    "              mean_squared_error(y_test, ridge_pred),\n",
    "              np.sqrt(mean_squared_error(y_test, ridge_pred))],\n",
    "    'lasso': [r2_score(y_test, lasso_pred),\n",
    "              mean_absolute_error(y_test, lasso_pred),\n",
    "              mean_absolute_percentage_error(y_test, lasso_pred),\n",
    "              mean_squared_error(y_test, lasso_pred),\n",
    "              np.sqrt(mean_squared_error(y_test, lasso_pred))],\n",
    "    'svr': [r2_score(y_test, svr_pred),\n",
    "            mean_absolute_error(y_test, svr_pred),\n",
    "            mean_absolute_percentage_error(y_test, svr_pred),\n",
    "            mean_squared_error(y_test, svr_pred),\n",
    "            np.sqrt(mean_squared_error(y_test, svr_pred))],\n",
    "    'random_forest': [r2_score(y_test, random_forest_pred),\n",
    "                      mean_absolute_error(y_test, random_forest_pred),\n",
    "                      mean_absolute_percentage_error(y_test, random_forest_pred),\n",
    "                      mean_squared_error(y_test, random_forest_pred),\n",
    "                      np.sqrt(mean_squared_error(y_test, random_forest_pred))]\n",
    "}"
   ]
  },
  {
   "cell_type": "code",
   "execution_count": 15,
   "metadata": {},
   "outputs": [],
   "source": [
    "results_df = pd.DataFrame(metrics, index=['R2', 'MAE', 'MAPE', 'MSE', 'RMSE'])"
   ]
  },
  {
   "cell_type": "code",
   "execution_count": 22,
   "metadata": {},
   "outputs": [
    {
     "data": {
      "text/html": [
       "<div>\n",
       "<style scoped>\n",
       "    .dataframe tbody tr th:only-of-type {\n",
       "        vertical-align: middle;\n",
       "    }\n",
       "\n",
       "    .dataframe tbody tr th {\n",
       "        vertical-align: top;\n",
       "    }\n",
       "\n",
       "    .dataframe thead th {\n",
       "        text-align: right;\n",
       "    }\n",
       "</style>\n",
       "<table border=\"1\" class=\"dataframe\">\n",
       "  <thead>\n",
       "    <tr style=\"text-align: right;\">\n",
       "      <th></th>\n",
       "      <th>linear_regression</th>\n",
       "      <th>ridge</th>\n",
       "      <th>lasso</th>\n",
       "      <th>svr</th>\n",
       "      <th>random_forest</th>\n",
       "    </tr>\n",
       "  </thead>\n",
       "  <tbody>\n",
       "    <tr>\n",
       "      <th>R2</th>\n",
       "      <td>0.919120</td>\n",
       "      <td>0.919145</td>\n",
       "      <td>-0.000304</td>\n",
       "      <td>0.930250</td>\n",
       "      <td>0.942414</td>\n",
       "    </tr>\n",
       "    <tr>\n",
       "      <th>MAE</th>\n",
       "      <td>0.101466</td>\n",
       "      <td>0.101513</td>\n",
       "      <td>0.411927</td>\n",
       "      <td>0.092490</td>\n",
       "      <td>0.061395</td>\n",
       "    </tr>\n",
       "    <tr>\n",
       "      <th>MAPE</th>\n",
       "      <td>0.015604</td>\n",
       "      <td>0.015611</td>\n",
       "      <td>0.062375</td>\n",
       "      <td>0.014196</td>\n",
       "      <td>0.009421</td>\n",
       "    </tr>\n",
       "    <tr>\n",
       "      <th>MSE</th>\n",
       "      <td>0.020687</td>\n",
       "      <td>0.020681</td>\n",
       "      <td>0.255851</td>\n",
       "      <td>0.017840</td>\n",
       "      <td>0.014729</td>\n",
       "    </tr>\n",
       "    <tr>\n",
       "      <th>RMSE</th>\n",
       "      <td>0.143830</td>\n",
       "      <td>0.143807</td>\n",
       "      <td>0.505817</td>\n",
       "      <td>0.133567</td>\n",
       "      <td>0.121363</td>\n",
       "    </tr>\n",
       "  </tbody>\n",
       "</table>\n",
       "</div>"
      ],
      "text/plain": [
       "      linear_regression     ridge     lasso       svr  random_forest\n",
       "R2             0.919120  0.919145 -0.000304  0.930250       0.942414\n",
       "MAE            0.101466  0.101513  0.411927  0.092490       0.061395\n",
       "MAPE           0.015604  0.015611  0.062375  0.014196       0.009421\n",
       "MSE            0.020687  0.020681  0.255851  0.017840       0.014729\n",
       "RMSE           0.143830  0.143807  0.505817  0.133567       0.121363"
      ]
     },
     "execution_count": 22,
     "metadata": {},
     "output_type": "execute_result"
    }
   ],
   "source": [
    "results_df"
   ]
  },
  {
   "attachments": {},
   "cell_type": "markdown",
   "metadata": {},
   "source": [
    "MODELO NO SUPERVISADO"
   ]
  },
  {
   "cell_type": "code",
   "execution_count": 17,
   "metadata": {},
   "outputs": [],
   "source": [
    "kmeans_pred = kmeans.predict(X_test)"
   ]
  },
  {
   "cell_type": "code",
   "execution_count": 23,
   "metadata": {},
   "outputs": [
    {
     "data": {
      "text/plain": [
       "0.22978220006402528"
      ]
     },
     "execution_count": 23,
     "metadata": {},
     "output_type": "execute_result"
    }
   ],
   "source": [
    "silueta = silhouette_score(X_test, kmeans_pred)\n",
    "silueta"
   ]
  }
 ],
 "metadata": {
  "kernelspec": {
   "display_name": "Python 3",
   "language": "python",
   "name": "python3"
  },
  "language_info": {
   "codemirror_mode": {
    "name": "ipython",
    "version": 3
   },
   "file_extension": ".py",
   "mimetype": "text/x-python",
   "name": "python",
   "nbconvert_exporter": "python",
   "pygments_lexer": "ipython3",
   "version": "3.11.4"
  },
  "orig_nbformat": 4
 },
 "nbformat": 4,
 "nbformat_minor": 2
}
